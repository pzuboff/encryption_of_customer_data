{
 "cells": [
  {
   "attachments": {},
   "cell_type": "markdown",
   "metadata": {},
   "source": [
    "# <div style=\"padding:10px;color:white;margin:0;font-size:100%;text-align:center;display:fill;border-radius:10px;background-color:#215f95; overflow:hidden;font-weight:501;font-family:Roboto\">Описание</div>"
   ]
  },
  {
   "attachments": {},
   "cell_type": "markdown",
   "metadata": {},
   "source": [
    "Нужно защитить данные клиентов страховой компании. Необходимо разработать такой метод преобразования данных, чтобы по ним было сложно восстановить персональную информацию. Нужно защитить данные, чтобы при преобразовании качество моделей машинного обучения не ухудшилось. "
   ]
  },
  {
   "attachments": {},
   "cell_type": "markdown",
   "metadata": {
    "toc": true
   },
   "source": [
    "## <div style=\"padding:10px;color:white;margin:0;font-size:100%;text-align:center;display:fill;border-radius:10px;background-color:#215f95; overflow:hidden;font-weight:501;font-family:Roboto\">Содержание</div>\n",
    "****\n",
    "\n",
    "<div class=\"toc\"><ul class=\"toc-item\"><li><span><a href=\"#Загрузка-данных\" data-toc-modified-id=\"Загрузка-данных-1\"><span class=\"toc-item-num\">1&nbsp;&nbsp;</span>Загрузка данных</a></span><ul class=\"toc-item\"><li><span><a href=\"#Импорт-библиотек\" data-toc-modified-id=\"Импорт-библиотек-1.1\"><span class=\"toc-item-num\">1.1&nbsp;&nbsp;</span>Импорт библиотек</a></span></li><li><span><a href=\"#Загрузка-данных\" data-toc-modified-id=\"Загрузка-данных-1.2\"><span class=\"toc-item-num\">1.2&nbsp;&nbsp;</span>Загрузка данных</a></span></li><li><span><a href=\"#Вывод\" data-toc-modified-id=\"Вывод-1.3\"><span class=\"toc-item-num\">1.3&nbsp;&nbsp;</span>Вывод</a></span></li></ul></li><li><span><a href=\"#Умножение-матриц\" data-toc-modified-id=\"Умножение-матриц-2\"><span class=\"toc-item-num\">2&nbsp;&nbsp;</span>Умножение матриц</a></span></li><li><span><a href=\"#Алгоритм-преобразования\" data-toc-modified-id=\"Алгоритм-преобразования-3\"><span class=\"toc-item-num\">3&nbsp;&nbsp;</span>Алгоритм преобразования</a></span></li><li><span><a href=\"#Проверка-алгоритма\" data-toc-modified-id=\"Проверка-алгоритма-4\"><span class=\"toc-item-num\">4&nbsp;&nbsp;</span>Проверка алгоритма</a></span><li><span><a href=\"#Вывод\" data-toc-modified-id=\"Вывод-4.1\"><span class=\"toc-item-num\">5&nbsp;&nbsp;</span>Вывод</a></span></li></li></ul></div>\n",
    "\n",
    "****"
   ]
  },
  {
   "attachments": {},
   "cell_type": "markdown",
   "metadata": {},
   "source": [
    "## <div style=\"padding:10px;color:white;margin:0;font-size:100%;text-align:center;display:fill;border-radius:10px;background-color:#215f95; overflow:hidden;font-weight:501;font-family:Roboto\">Загрузка данных</div>"
   ]
  },
  {
   "attachments": {},
   "cell_type": "markdown",
   "metadata": {},
   "source": [
    "### Импорт библиотек\n"
   ]
  },
  {
   "cell_type": "code",
   "execution_count": 18,
   "metadata": {},
   "outputs": [],
   "source": [
    "import numpy as np\n",
    "import pandas as pd\n",
    "import plotly.express as px\n",
    "import plotly.graph_objects as go\n",
    "import plotly.io as pio\n",
    "from sklearn.metrics import r2_score\n",
    "\n",
    "pio.renderers.default='notebook'"
   ]
  },
  {
   "attachments": {},
   "cell_type": "markdown",
   "metadata": {},
   "source": [
    "### Загрузка данных\n"
   ]
  },
  {
   "cell_type": "code",
   "execution_count": 19,
   "metadata": {},
   "outputs": [],
   "source": [
    "try:\n",
    "    data = pd.read_csv('/datasets/insurance.csv')\n",
    "except FileNotFoundError:\n",
    "    print(\"No such file or directory\")"
   ]
  },
  {
   "attachments": {},
   "cell_type": "markdown",
   "metadata": {},
   "source": [
    "Создадим функцию для ознакомления с данными:\n"
   ]
  },
  {
   "cell_type": "code",
   "execution_count": 20,
   "metadata": {},
   "outputs": [],
   "source": [
    "def check_df(df):\n",
    "    print('**************************************************************************************')\n",
    "    print('СВОДНАЯ ИНФОРМАЦИЯ О ДАТАФРЕЙМЕ')\n",
    "    print('**************************************************************************************')\n",
    "    print('===ОБЩАЯ ИНФОРМАЦИЯ===')\n",
    "    display(df.info())\n",
    "    print('**************************************************************************************')\n",
    "    print('===ПЕРВЫЕ 5 СТРОК ДАТАФРЕЙМА===')\n",
    "    display(df.head(5))\n",
    "    print('**************************************************************************************')\n",
    "    print('===СТАТИСТИКА===')\n",
    "    display(df.describe())\n",
    "    print('**************************************************************************************')\n",
    "    print('===КОЛИЧЕСТВО ДУБЛИКАТОВ===')\n",
    "    print(df.duplicated().sum())\n",
    "    print('**************************************************************************************')\n",
    "    print('===ПРОПУЩЕННЫЕ ЗНАЧЕНИЯ===')\n",
    "    print(df.isna().sum())\n",
    "    print('**************************************************************************************')\n",
    "    print('===МАТРИЦА КОРРЕЛЯЦИИ===')\n",
    "    fig = px.imshow(\n",
    "    round(df.corr(), 4),\n",
    "    text_auto=True,\n",
    "    template=\"plotly_dark\",\n",
    "    color_continuous_scale=px.colors.sequential.Blues,\n",
    "    aspect=\"auto\",\n",
    "    title=\"<b>Correlation matrix\",\n",
    "    )\n",
    "    fig.update_layout(title_x=0.5)\n",
    "    fig.show(\"png\")\n"
   ]
  },
  {
   "cell_type": "code",
   "execution_count": 21,
   "metadata": {},
   "outputs": [
    {
     "name": "stdout",
     "output_type": "stream",
     "text": [
      "**************************************************************************************\n",
      "СВОДНАЯ ИНФОРМАЦИЯ О ДАТАФРЕЙМЕ\n",
      "**************************************************************************************\n",
      "===ОБЩАЯ ИНФОРМАЦИЯ===\n",
      "<class 'pandas.core.frame.DataFrame'>\n",
      "RangeIndex: 5000 entries, 0 to 4999\n",
      "Data columns (total 5 columns):\n",
      " #   Column             Non-Null Count  Dtype  \n",
      "---  ------             --------------  -----  \n",
      " 0   Пол                5000 non-null   int64  \n",
      " 1   Возраст            5000 non-null   float64\n",
      " 2   Зарплата           5000 non-null   float64\n",
      " 3   Члены семьи        5000 non-null   int64  \n",
      " 4   Страховые выплаты  5000 non-null   int64  \n",
      "dtypes: float64(2), int64(3)\n",
      "memory usage: 195.4 KB\n"
     ]
    },
    {
     "data": {
      "text/plain": [
       "None"
      ]
     },
     "metadata": {},
     "output_type": "display_data"
    },
    {
     "name": "stdout",
     "output_type": "stream",
     "text": [
      "**************************************************************************************\n",
      "===ПЕРВЫЕ 5 СТРОК ДАТАФРЕЙМА===\n"
     ]
    },
    {
     "data": {
      "text/html": [
       "<div>\n",
       "<style scoped>\n",
       "    .dataframe tbody tr th:only-of-type {\n",
       "        vertical-align: middle;\n",
       "    }\n",
       "\n",
       "    .dataframe tbody tr th {\n",
       "        vertical-align: top;\n",
       "    }\n",
       "\n",
       "    .dataframe thead th {\n",
       "        text-align: right;\n",
       "    }\n",
       "</style>\n",
       "<table border=\"1\" class=\"dataframe\">\n",
       "  <thead>\n",
       "    <tr style=\"text-align: right;\">\n",
       "      <th></th>\n",
       "      <th>Пол</th>\n",
       "      <th>Возраст</th>\n",
       "      <th>Зарплата</th>\n",
       "      <th>Члены семьи</th>\n",
       "      <th>Страховые выплаты</th>\n",
       "    </tr>\n",
       "  </thead>\n",
       "  <tbody>\n",
       "    <tr>\n",
       "      <th>0</th>\n",
       "      <td>1</td>\n",
       "      <td>41.0</td>\n",
       "      <td>49600.0</td>\n",
       "      <td>1</td>\n",
       "      <td>0</td>\n",
       "    </tr>\n",
       "    <tr>\n",
       "      <th>1</th>\n",
       "      <td>0</td>\n",
       "      <td>46.0</td>\n",
       "      <td>38000.0</td>\n",
       "      <td>1</td>\n",
       "      <td>1</td>\n",
       "    </tr>\n",
       "    <tr>\n",
       "      <th>2</th>\n",
       "      <td>0</td>\n",
       "      <td>29.0</td>\n",
       "      <td>21000.0</td>\n",
       "      <td>0</td>\n",
       "      <td>0</td>\n",
       "    </tr>\n",
       "    <tr>\n",
       "      <th>3</th>\n",
       "      <td>0</td>\n",
       "      <td>21.0</td>\n",
       "      <td>41700.0</td>\n",
       "      <td>2</td>\n",
       "      <td>0</td>\n",
       "    </tr>\n",
       "    <tr>\n",
       "      <th>4</th>\n",
       "      <td>1</td>\n",
       "      <td>28.0</td>\n",
       "      <td>26100.0</td>\n",
       "      <td>0</td>\n",
       "      <td>0</td>\n",
       "    </tr>\n",
       "  </tbody>\n",
       "</table>\n",
       "</div>"
      ],
      "text/plain": [
       "   Пол  Возраст  Зарплата  Члены семьи  Страховые выплаты\n",
       "0    1     41.0   49600.0            1                  0\n",
       "1    0     46.0   38000.0            1                  1\n",
       "2    0     29.0   21000.0            0                  0\n",
       "3    0     21.0   41700.0            2                  0\n",
       "4    1     28.0   26100.0            0                  0"
      ]
     },
     "metadata": {},
     "output_type": "display_data"
    },
    {
     "name": "stdout",
     "output_type": "stream",
     "text": [
      "**************************************************************************************\n",
      "===СТАТИСТИКА===\n"
     ]
    },
    {
     "data": {
      "text/html": [
       "<div>\n",
       "<style scoped>\n",
       "    .dataframe tbody tr th:only-of-type {\n",
       "        vertical-align: middle;\n",
       "    }\n",
       "\n",
       "    .dataframe tbody tr th {\n",
       "        vertical-align: top;\n",
       "    }\n",
       "\n",
       "    .dataframe thead th {\n",
       "        text-align: right;\n",
       "    }\n",
       "</style>\n",
       "<table border=\"1\" class=\"dataframe\">\n",
       "  <thead>\n",
       "    <tr style=\"text-align: right;\">\n",
       "      <th></th>\n",
       "      <th>Пол</th>\n",
       "      <th>Возраст</th>\n",
       "      <th>Зарплата</th>\n",
       "      <th>Члены семьи</th>\n",
       "      <th>Страховые выплаты</th>\n",
       "    </tr>\n",
       "  </thead>\n",
       "  <tbody>\n",
       "    <tr>\n",
       "      <th>count</th>\n",
       "      <td>5000.000000</td>\n",
       "      <td>5000.000000</td>\n",
       "      <td>5000.000000</td>\n",
       "      <td>5000.000000</td>\n",
       "      <td>5000.000000</td>\n",
       "    </tr>\n",
       "    <tr>\n",
       "      <th>mean</th>\n",
       "      <td>0.499000</td>\n",
       "      <td>30.952800</td>\n",
       "      <td>39916.360000</td>\n",
       "      <td>1.194200</td>\n",
       "      <td>0.148000</td>\n",
       "    </tr>\n",
       "    <tr>\n",
       "      <th>std</th>\n",
       "      <td>0.500049</td>\n",
       "      <td>8.440807</td>\n",
       "      <td>9900.083569</td>\n",
       "      <td>1.091387</td>\n",
       "      <td>0.463183</td>\n",
       "    </tr>\n",
       "    <tr>\n",
       "      <th>min</th>\n",
       "      <td>0.000000</td>\n",
       "      <td>18.000000</td>\n",
       "      <td>5300.000000</td>\n",
       "      <td>0.000000</td>\n",
       "      <td>0.000000</td>\n",
       "    </tr>\n",
       "    <tr>\n",
       "      <th>25%</th>\n",
       "      <td>0.000000</td>\n",
       "      <td>24.000000</td>\n",
       "      <td>33300.000000</td>\n",
       "      <td>0.000000</td>\n",
       "      <td>0.000000</td>\n",
       "    </tr>\n",
       "    <tr>\n",
       "      <th>50%</th>\n",
       "      <td>0.000000</td>\n",
       "      <td>30.000000</td>\n",
       "      <td>40200.000000</td>\n",
       "      <td>1.000000</td>\n",
       "      <td>0.000000</td>\n",
       "    </tr>\n",
       "    <tr>\n",
       "      <th>75%</th>\n",
       "      <td>1.000000</td>\n",
       "      <td>37.000000</td>\n",
       "      <td>46600.000000</td>\n",
       "      <td>2.000000</td>\n",
       "      <td>0.000000</td>\n",
       "    </tr>\n",
       "    <tr>\n",
       "      <th>max</th>\n",
       "      <td>1.000000</td>\n",
       "      <td>65.000000</td>\n",
       "      <td>79000.000000</td>\n",
       "      <td>6.000000</td>\n",
       "      <td>5.000000</td>\n",
       "    </tr>\n",
       "  </tbody>\n",
       "</table>\n",
       "</div>"
      ],
      "text/plain": [
       "               Пол      Возраст      Зарплата  Члены семьи  Страховые выплаты\n",
       "count  5000.000000  5000.000000   5000.000000  5000.000000        5000.000000\n",
       "mean      0.499000    30.952800  39916.360000     1.194200           0.148000\n",
       "std       0.500049     8.440807   9900.083569     1.091387           0.463183\n",
       "min       0.000000    18.000000   5300.000000     0.000000           0.000000\n",
       "25%       0.000000    24.000000  33300.000000     0.000000           0.000000\n",
       "50%       0.000000    30.000000  40200.000000     1.000000           0.000000\n",
       "75%       1.000000    37.000000  46600.000000     2.000000           0.000000\n",
       "max       1.000000    65.000000  79000.000000     6.000000           5.000000"
      ]
     },
     "metadata": {},
     "output_type": "display_data"
    },
    {
     "name": "stdout",
     "output_type": "stream",
     "text": [
      "**************************************************************************************\n",
      "===КОЛИЧЕСТВО ДУБЛИКАТОВ===\n",
      "153\n",
      "**************************************************************************************\n",
      "===ПРОПУЩЕННЫЕ ЗНАЧЕНИЯ===\n",
      "Пол                  0\n",
      "Возраст              0\n",
      "Зарплата             0\n",
      "Члены семьи          0\n",
      "Страховые выплаты    0\n",
      "dtype: int64\n",
      "**************************************************************************************\n",
      "===МАТРИЦА КОРРЕЛЯЦИИ===\n"
     ]
    },
    {
     "data": {
      "image/png": "[encoded data removed]"
     },
     "metadata": {},
     "output_type": "display_data"
    }
   ],
   "source": [
    "check_df(data)"
   ]
  },
  {
   "attachments": {},
   "cell_type": "markdown",
   "metadata": {},
   "source": [
    "Итак, удалим 153 дубликата и сменим тип данных признаков \"Возраст\" и \"Зарплата\" на целочисленный.\n",
    "\n",
    "Сначала дубликаты:\n"
   ]
  },
  {
   "cell_type": "code",
   "execution_count": 22,
   "metadata": {},
   "outputs": [],
   "source": [
    "data = data.drop_duplicates()"
   ]
  },
  {
   "attachments": {},
   "cell_type": "markdown",
   "metadata": {},
   "source": [
    "Переименуем признаки:"
   ]
  },
  {
   "cell_type": "code",
   "execution_count": 23,
   "metadata": {},
   "outputs": [],
   "source": [
    "data.rename(\n",
    "    columns={\n",
    "        \"Пол\": \"sex\",\n",
    "        \"Возраст\": \"age\",\n",
    "        \"Зарплата\": \"salary\",\n",
    "        \"Члены семьи\": \"family_members\",\n",
    "        \"Страховые выплаты\": \"insurance_payments\",\n",
    "    },\n",
    "    inplace=True,\n",
    ")"
   ]
  },
  {
   "attachments": {},
   "cell_type": "markdown",
   "metadata": {},
   "source": [
    "Теперь типы данных:\n"
   ]
  },
  {
   "cell_type": "code",
   "execution_count": 24,
   "metadata": {},
   "outputs": [],
   "source": [
    "data[['salary', 'age']] = data[['salary', 'age']].astype('int64')\n"
   ]
  },
  {
   "cell_type": "code",
   "execution_count": 25,
   "metadata": {},
   "outputs": [
    {
     "name": "stdout",
     "output_type": "stream",
     "text": [
      "<class 'pandas.core.frame.DataFrame'>\n",
      "Int64Index: 4847 entries, 0 to 4999\n",
      "Data columns (total 5 columns):\n",
      " #   Column              Non-Null Count  Dtype\n",
      "---  ------              --------------  -----\n",
      " 0   sex                 4847 non-null   int64\n",
      " 1   age                 4847 non-null   int64\n",
      " 2   salary              4847 non-null   int64\n",
      " 3   family_members      4847 non-null   int64\n",
      " 4   insurance_payments  4847 non-null   int64\n",
      "dtypes: int64(5)\n",
      "memory usage: 227.2 KB\n"
     ]
    }
   ],
   "source": [
    "data.info()\n"
   ]
  },
  {
   "attachments": {},
   "cell_type": "markdown",
   "metadata": {},
   "source": [
    "Прикинем распределение страховых выплат в зависимости от количества членов семьи:"
   ]
  },
  {
   "cell_type": "code",
   "execution_count": 26,
   "metadata": {},
   "outputs": [
    {
     "data": {
      "image/png": "[encoded data removed]"
     },
     "metadata": {},
     "output_type": "display_data"
    }
   ],
   "source": [
    "fig = px.pie(\n",
    "    data.groupby([\"family_members\"]).sum(),\n",
    "    values=\"insurance_payments\",\n",
    "    names=data.groupby([\"family_members\"]).sum().index,\n",
    "    template=\"plotly_dark\",\n",
    "    color_discrete_sequence=px.colors.sequential.Blues,\n",
    "    title=\"<b>Распределение страховых выплат в зависимости от кол-ва членов семьи\"\n",
    ")\n",
    "fig.show(\"png\")"
   ]
  },
  {
   "attachments": {},
   "cell_type": "markdown",
   "metadata": {},
   "source": [
    "Как ни странно, почти 40% страховых выплат получают люди, у которых есть еще один член семьи. Это могут быть молодожены, либо матери одиночки. Треть всех выплат получают одинокие клиенты, пятую часть семьи с одним ребенком. Ну и так далее по убыванию суммы выплат и возрастанию количества членов семьи. Вероятно, это связанно с тем, что большие семьи в наше время редкость. Проверим это предположение:"
   ]
  },
  {
   "cell_type": "code",
   "execution_count": 27,
   "metadata": {},
   "outputs": [
    {
     "data": {
      "image/png": "[encoded data removed]"
     },
     "metadata": {},
     "output_type": "display_data"
    }
   ],
   "source": [
    "fig = px.bar(\n",
    "    x=data[\"family_members\"].value_counts().index,\n",
    "    y=data[\"family_members\"].value_counts(),\n",
    "    color_discrete_sequence=[\"steelblue\"],\n",
    "    template=\"plotly_dark\",\n",
    "    title=\"<b>Распределение по количеству членов семьи\",\n",
    ")\n",
    "fig.update_layout(title_x=0.5, xaxis_title=\"family_members\",)\n",
    "fig.show(\"png\")"
   ]
  },
  {
   "attachments": {},
   "cell_type": "markdown",
   "metadata": {},
   "source": [
    "Да, так и есть, клиентов с большими семьями мало, но наступление страхового случая с последующей выплатой страховки никак не связано с количеством членов семьи клиента."
   ]
  },
  {
   "attachments": {},
   "cell_type": "markdown",
   "metadata": {},
   "source": [
    "### Вывод\n"
   ]
  },
  {
   "attachments": {},
   "cell_type": "markdown",
   "metadata": {},
   "source": [
    "Дубликаты удалили, тип данных изменили. Все красиво, едем дальше.\n"
   ]
  },
  {
   "attachments": {},
   "cell_type": "markdown",
   "metadata": {},
   "source": [
    "## <div style=\"padding:10px;color:white;margin:0;font-size:100%;text-align:center;display:fill;border-radius:10px;background-color:#215f95; overflow:hidden;font-weight:501;font-family:Roboto\">Умножение матриц</div>\n"
   ]
  },
  {
   "attachments": {},
   "cell_type": "markdown",
   "metadata": {},
   "source": [
    "Обозначения:\n",
    "\n",
    "- $X$ — матрица признаков (нулевой столбец состоит из единиц)\n",
    "\n",
    "- $y$ — вектор целевого признака\n",
    "\n",
    "- $P$ — матрица, на которую умножаются признаки\n",
    "\n",
    "- $w$ — вектор весов линейной регрессии (нулевой элемент равен сдвигу)\n"
   ]
  },
  {
   "attachments": {},
   "cell_type": "markdown",
   "metadata": {},
   "source": [
    "Предсказания:\n",
    "\n",
    "$$\n",
    "a = Xw\n",
    "$$\n",
    "\n",
    "Задача обучения:\n",
    "\n",
    "$$\n",
    "w = \\arg\\min_w MSE(Xw, y)\n",
    "$$\n",
    "\n",
    "Формула обучения:\n",
    "\n",
    "$$\n",
    "w = (X^T X)^{-1} X^T y\n",
    "$$\n"
   ]
  },
  {
   "attachments": {},
   "cell_type": "markdown",
   "metadata": {},
   "source": [
    "**Ответ:** Качество (метрика R2) не изменится\n",
    "\n",
    "**Обоснование:** Представим матрицу $X_1$, как произведение матрицы $X$ и некой обратимой матрицы $Z$:\n"
   ]
  },
  {
   "attachments": {},
   "cell_type": "markdown",
   "metadata": {},
   "source": [
    "$$\n",
    "X_1 = XZ\n",
    "$$\n",
    "\n",
    "Тогда, формула обучения примет вид:\n",
    "\n",
    "$$\n",
    "w_1 = (X_1^T X_1)^{-1} X_1^T y\n",
    "$$\n",
    "\n",
    "Подставим в полученную формулу значения $X_1$:\n",
    "\n",
    "$$\n",
    "w_1 = ((XZ)^T XZ)^{-1} (XZ)^T y\n",
    "$$\n",
    "\n",
    "Воспользовавшись ассоцицативным свойством умножения матриц, получим:\n",
    "\n",
    "$$\n",
    "w_1 = (Z^T (X^T X) Z)^{-1} (XZ)^T y\n",
    "$$\n",
    "\n",
    "Транспонированное произведение матриц равно произведению транспонированных матриц, взятых в обратном порядке, из чего следует:\n",
    "\n",
    "$$\n",
    "w_1 = (Z^T (X^T X) Z)^{-1} Z^T X^T y =\n",
    "$$\n",
    "\n",
    "$$\n",
    "= Z^{-1} (X^T X)^{-1} (Z^T)^{-1} Z^T X^T y\n",
    "$$\n"
   ]
  },
  {
   "attachments": {},
   "cell_type": "markdown",
   "metadata": {},
   "source": [
    "Выражение $(Z^T)^{-1} Z^T$ является произведением обратной матрицы на исходную, что в результате дает единичную матрицу $E$, следовательно:\n",
    "\n",
    "$$\n",
    "w_1 = Z^{-1} (X^T X)^{-1} EX^T y\n",
    "$$\n"
   ]
  },
  {
   "attachments": {},
   "cell_type": "markdown",
   "metadata": {},
   "source": [
    "Произведение любой матрицы и единичной матрицы подходящего размера равно самой матрице, тогда:\n",
    "\n",
    "$$\n",
    "w_1 = Z^{-1} (X^T X)^{-1} X^T y = Z^{-1}w\n",
    "$$\n"
   ]
  },
  {
   "attachments": {},
   "cell_type": "markdown",
   "metadata": {},
   "source": [
    "Теперь применим те свойства матриц для формулы предсказаний. Пусть\n",
    "\n",
    "$$\n",
    "a_1 = X_1 w_1\n",
    "$$\n",
    "\n",
    "тогда, подставив в формулу найденные значения $X_1$ и $w_1$, получим:\n",
    "\n",
    "$$\n",
    "a_1 = XZZ^{-1}w = XEw = Xw\n",
    "$$\n",
    "\n",
    "Из чего делаем вывод, что:\n",
    "\n",
    "$$\n",
    "a = a_1\n",
    "$$\n"
   ]
  },
  {
   "attachments": {},
   "cell_type": "markdown",
   "metadata": {},
   "source": [
    "Следовательно, качество (метрика R2) не изменится, что и требовалось ~~доказать~~ обосновать.\n"
   ]
  },
  {
   "attachments": {},
   "cell_type": "markdown",
   "metadata": {},
   "source": [
    "## <div style=\"padding:10px;color:white;margin:0;font-size:100%;text-align:center;display:fill;border-radius:10px;background-color:#215f95; overflow:hidden;font-weight:501;font-family:Roboto\">Алгоритм преобразования</div>"
   ]
  },
  {
   "attachments": {},
   "cell_type": "markdown",
   "metadata": {},
   "source": [
    "**Алгоритм**\n",
    "\n",
    "1. Сгенерировать обратимую матрицу $Z$ замером 4x4\n",
    "1. Получить произведение матрицы исходных признаков и сгенерированной матрицы\n",
    "1. Рассчитать метрики R2 для исходной и произведения матриц\n",
    "1. Сравнить значения полученных метрик\n"
   ]
  },
  {
   "attachments": {},
   "cell_type": "markdown",
   "metadata": {},
   "source": [
    "**Обоснование**\n",
    "\n",
    "Выше мы доказали, что предсказания исходной и измененной матриц идентичны, из чего следует, что и метрики R2 долюны оказаться таковыми, при условии верных рассчетов.\n"
   ]
  },
  {
   "attachments": {},
   "cell_type": "markdown",
   "metadata": {},
   "source": [
    "## <div style=\"padding:10px;color:white;margin:0;font-size:100%;text-align:center;display:fill;border-radius:10px;background-color:#215f95; overflow:hidden;font-weight:501;font-family:Roboto\">Проверка алгоритма</div>\n"
   ]
  },
  {
   "attachments": {},
   "cell_type": "markdown",
   "metadata": {},
   "source": [
    "Подготовим исходные данные для обучения модели:\n"
   ]
  },
  {
   "cell_type": "code",
   "execution_count": 28,
   "metadata": {},
   "outputs": [],
   "source": [
    "features = data.drop('insurance_payments', axis=1)\n",
    "target = data['insurance_payments']\n"
   ]
  },
  {
   "attachments": {},
   "cell_type": "markdown",
   "metadata": {},
   "source": [
    "Генерируем квадратную матрицу размером 4х4:\n"
   ]
  },
  {
   "cell_type": "code",
   "execution_count": 29,
   "metadata": {},
   "outputs": [
    {
     "name": "stdout",
     "output_type": "stream",
     "text": [
      "[[-0.2862812   0.59454659 -0.78595136  0.090662  ]\n",
      " [-0.25620911  0.91608139  0.08131179 -1.54583397]\n",
      " [-0.58174361  0.47776669  0.02559423  1.62651129]\n",
      " [ 0.57112782  1.28524955 -0.83372884 -0.11449429]]\n"
     ]
    }
   ],
   "source": [
    "matrix_gen = np.random.normal(size=(4, 4))\n",
    "print(matrix_gen)"
   ]
  },
  {
   "attachments": {},
   "cell_type": "markdown",
   "metadata": {},
   "source": [
    "Проверим сгенерированную матрицу на обратимость. Используя конструкцию try...except попробуем инвертировать матрицу методом linalg.inv(), а обработчик ошибок поможет нам, если что-то вдруг пойдет не по плану:\n"
   ]
  },
  {
   "cell_type": "code",
   "execution_count": 30,
   "metadata": {},
   "outputs": [
    {
     "name": "stdout",
     "output_type": "stream",
     "text": [
      "Матрица обратима!\n"
     ]
    }
   ],
   "source": [
    "try:\n",
    "    np.linalg.inv(matrix_gen)\n",
    "    print(\"Матрица обратима!\")\n",
    "except np.linalg.LinAlgError:\n",
    "    try:\n",
    "        print(\"Матрица необратима!\")\n",
    "    except Exception:\n",
    "        print(\n",
    "            \"Матрица не соответствует требованиям к обратимой матрице, возможно не квадратная!\"\n",
    "        )"
   ]
  },
  {
   "cell_type": "code",
   "execution_count": 31,
   "metadata": {},
   "outputs": [
    {
     "data": {
      "text/html": [
       "<div>\n",
       "<style scoped>\n",
       "    .dataframe tbody tr th:only-of-type {\n",
       "        vertical-align: middle;\n",
       "    }\n",
       "\n",
       "    .dataframe tbody tr th {\n",
       "        vertical-align: top;\n",
       "    }\n",
       "\n",
       "    .dataframe thead th {\n",
       "        text-align: right;\n",
       "    }\n",
       "</style>\n",
       "<table border=\"1\" class=\"dataframe\">\n",
       "  <thead>\n",
       "    <tr style=\"text-align: right;\">\n",
       "      <th></th>\n",
       "      <th>sex</th>\n",
       "      <th>age</th>\n",
       "      <th>salary</th>\n",
       "      <th>family_members</th>\n",
       "    </tr>\n",
       "  </thead>\n",
       "  <tbody>\n",
       "    <tr>\n",
       "      <th>3301</th>\n",
       "      <td>-24440.120778</td>\n",
       "      <td>20093.731035</td>\n",
       "      <td>1075.614620</td>\n",
       "      <td>68270.167179</td>\n",
       "    </tr>\n",
       "    <tr>\n",
       "      <th>3201</th>\n",
       "      <td>-16875.176558</td>\n",
       "      <td>13871.723461</td>\n",
       "      <td>743.696220</td>\n",
       "      <td>47141.002525</td>\n",
       "    </tr>\n",
       "    <tr>\n",
       "      <th>2393</th>\n",
       "      <td>-26187.173720</td>\n",
       "      <td>21530.647796</td>\n",
       "      <td>1154.504855</td>\n",
       "      <td>73140.449891</td>\n",
       "    </tr>\n",
       "    <tr>\n",
       "      <th>1418</th>\n",
       "      <td>-20599.755520</td>\n",
       "      <td>16941.161587</td>\n",
       "      <td>906.644939</td>\n",
       "      <td>57534.987480</td>\n",
       "    </tr>\n",
       "    <tr>\n",
       "      <th>2666</th>\n",
       "      <td>-21648.548698</td>\n",
       "      <td>17800.403292</td>\n",
       "      <td>954.544630</td>\n",
       "      <td>60459.845131</td>\n",
       "    </tr>\n",
       "  </tbody>\n",
       "</table>\n",
       "</div>"
      ],
      "text/plain": [
       "               sex           age       salary  family_members\n",
       "3301 -24440.120778  20093.731035  1075.614620    68270.167179\n",
       "3201 -16875.176558  13871.723461   743.696220    47141.002525\n",
       "2393 -26187.173720  21530.647796  1154.504855    73140.449891\n",
       "1418 -20599.755520  16941.161587   906.644939    57534.987480\n",
       "2666 -21648.548698  17800.403292   954.544630    60459.845131"
      ]
     },
     "execution_count": 31,
     "metadata": {},
     "output_type": "execute_result"
    }
   ],
   "source": [
    "matrix_origin = features.values  # Преобразуем предсказания в матрицу\n",
    "matrix_derived = matrix_origin @ matrix_gen\n",
    "# Получаем \"закодированные\" признаки\n",
    "features_encrypted = pd.DataFrame(matrix_derived, columns=features.columns)\n",
    "features_encrypted.sample(n=5)"
   ]
  },
  {
   "attachments": {},
   "cell_type": "markdown",
   "metadata": {},
   "source": [
    "Создадим новый класс LinearRegression - модели линейной регрессии, используя формулы из раздела выше:\n"
   ]
  },
  {
   "cell_type": "code",
   "execution_count": 32,
   "metadata": {},
   "outputs": [],
   "source": [
    "class LinearRegression:\n",
    "    def fit(self, train_features, train_target):\n",
    "        X = np.concatenate(\n",
    "            (np.ones((train_features.shape[0], 1)), train_features), axis=1\n",
    "        )\n",
    "        y = train_target\n",
    "        w = np.linalg.inv(X.T @ X) @ X.T @ y\n",
    "        self.w = w[1:]\n",
    "        self.w0 = w[0]\n",
    "\n",
    "    def predict(self, test_features):\n",
    "        return test_features.dot(self.w) + self.w0"
   ]
  },
  {
   "attachments": {},
   "cell_type": "markdown",
   "metadata": {},
   "source": [
    "Теперь обучим нашу свежеиспеченную модель на исходных данных и рассчитаем метрику R2:\n"
   ]
  },
  {
   "cell_type": "code",
   "execution_count": 33,
   "metadata": {},
   "outputs": [
    {
     "name": "stdout",
     "output_type": "stream",
     "text": [
      "Метрика R2 = 0.4302010046633359\n"
     ]
    }
   ],
   "source": [
    "lr = LinearRegression()\n",
    "lr.fit(features, target)\n",
    "predictions = lr.predict(features)\n",
    "print(f'Метрика R2 = {r2_score(target, predictions)}')\n"
   ]
  },
  {
   "attachments": {},
   "cell_type": "markdown",
   "metadata": {},
   "source": [
    "Теперь обучим модель с использованием \"закодированных\" предсказаний и также рассчитаем метрику R2:\n"
   ]
  },
  {
   "cell_type": "code",
   "execution_count": 34,
   "metadata": {},
   "outputs": [
    {
     "name": "stdout",
     "output_type": "stream",
     "text": [
      "Метрика R2 = 0.4302010046633292\n"
     ]
    }
   ],
   "source": [
    "model = LinearRegression()\n",
    "model.fit(features_encrypted, target)\n",
    "predictions = model.predict(features_encrypted)\n",
    "print(f'Метрика R2 = {r2_score(target, predictions)}')\n"
   ]
  },
  {
   "attachments": {},
   "cell_type": "markdown",
   "metadata": {},
   "source": [
    "## <div style=\"padding:10px;color:white;margin:0;font-size:100%;text-align:center;display:fill;border-radius:10px;background-color:#215f95; overflow:hidden;font-weight:501;font-family:Roboto\">Вывод</div>\n"
   ]
  },
  {
   "attachments": {},
   "cell_type": "markdown",
   "metadata": {},
   "source": [
    "Мы разработали, математически обосновали и реализовали метод преобразования исходных данных, основанный на преобразовании исходных данных методом умножения матриц, без потери качества модели. Полученные метрики обнаруживают различия начиная с 13 символа после запятой (10-тимиллиардная?), что можно отности к погрешности округления."
   ]
  }
 ],
 "metadata": {
  "ExecuteTimeLog": [
   {
    "duration": 1055,
    "start_time": "2023-01-09T19:45:29.625Z"
   },
   {
    "duration": 99,
    "start_time": "2023-01-09T19:45:30.682Z"
   },
   {
    "duration": 6,
    "start_time": "2023-01-09T19:45:30.783Z"
   },
   {
    "duration": 76,
    "start_time": "2023-01-09T19:45:30.791Z"
   },
   {
    "duration": 5,
    "start_time": "2023-01-09T19:45:30.869Z"
   },
   {
    "duration": 5,
    "start_time": "2023-01-09T19:45:30.904Z"
   },
   {
    "duration": 53,
    "start_time": "2023-01-09T19:45:30.911Z"
   },
   {
    "duration": 8,
    "start_time": "2023-01-09T19:45:30.966Z"
   },
   {
    "duration": 14,
    "start_time": "2023-01-09T19:45:30.976Z"
   },
   {
    "duration": 99,
    "start_time": "2023-01-09T19:45:31.007Z"
   },
   {
    "duration": 5,
    "start_time": "2023-01-09T19:45:31.110Z"
   },
   {
    "duration": 88,
    "start_time": "2023-01-09T19:45:31.117Z"
   },
   {
    "duration": 115,
    "start_time": "2023-01-09T19:45:31.207Z"
   },
   {
    "duration": 1959,
    "start_time": "2023-01-09T20:11:24.998Z"
   },
   {
    "duration": 152,
    "start_time": "2023-01-09T20:11:26.960Z"
   },
   {
    "duration": 5,
    "start_time": "2023-01-09T20:12:19.649Z"
   },
   {
    "duration": 50,
    "start_time": "2023-01-09T20:12:21.981Z"
   },
   {
    "duration": 6,
    "start_time": "2023-01-09T20:12:27.924Z"
   },
   {
    "duration": 7,
    "start_time": "2023-01-09T20:12:28.534Z"
   },
   {
    "duration": 13,
    "start_time": "2023-01-09T20:12:29.082Z"
   },
   {
    "duration": 5,
    "start_time": "2023-01-09T20:14:33.108Z"
   },
   {
    "duration": 5,
    "start_time": "2023-01-09T20:14:34.460Z"
   },
   {
    "duration": 989,
    "start_time": "2023-01-09T22:08:30.079Z"
   },
   {
    "duration": 98,
    "start_time": "2023-01-09T22:08:31.070Z"
   },
   {
    "duration": 4,
    "start_time": "2023-01-09T22:08:31.170Z"
   },
   {
    "duration": 65,
    "start_time": "2023-01-09T22:08:31.175Z"
   },
   {
    "duration": 4,
    "start_time": "2023-01-09T22:08:31.242Z"
   },
   {
    "duration": 5,
    "start_time": "2023-01-09T22:08:31.248Z"
   },
   {
    "duration": 10,
    "start_time": "2023-01-09T22:08:31.255Z"
   },
   {
    "duration": 7,
    "start_time": "2023-01-09T22:08:31.266Z"
   },
   {
    "duration": 5,
    "start_time": "2023-01-09T22:08:31.275Z"
   },
   {
    "duration": 8,
    "start_time": "2023-01-09T22:08:31.281Z"
   },
   {
    "duration": 10,
    "start_time": "2023-01-09T22:08:31.290Z"
   },
   {
    "duration": 191,
    "start_time": "2023-01-09T22:08:31.301Z"
   },
   {
    "duration": 0,
    "start_time": "2023-01-09T22:08:31.494Z"
   },
   {
    "duration": 0,
    "start_time": "2023-01-09T22:08:31.495Z"
   },
   {
    "duration": 0,
    "start_time": "2023-01-09T22:08:31.497Z"
   },
   {
    "duration": 5,
    "start_time": "2023-01-09T22:12:08.467Z"
   },
   {
    "duration": 3,
    "start_time": "2023-01-09T22:15:20.616Z"
   },
   {
    "duration": 4,
    "start_time": "2023-01-09T22:16:25.999Z"
   },
   {
    "duration": 1132,
    "start_time": "2023-01-09T22:17:53.591Z"
   },
   {
    "duration": 26,
    "start_time": "2023-01-09T22:17:54.725Z"
   },
   {
    "duration": 4,
    "start_time": "2023-01-09T22:17:54.753Z"
   },
   {
    "duration": 58,
    "start_time": "2023-01-09T22:17:54.758Z"
   },
   {
    "duration": 6,
    "start_time": "2023-01-09T22:17:54.819Z"
   },
   {
    "duration": 32,
    "start_time": "2023-01-09T22:17:54.827Z"
   },
   {
    "duration": 18,
    "start_time": "2023-01-09T22:17:54.861Z"
   },
   {
    "duration": 11,
    "start_time": "2023-01-09T22:17:54.881Z"
   },
   {
    "duration": 11,
    "start_time": "2023-01-09T22:17:54.894Z"
   },
   {
    "duration": 13,
    "start_time": "2023-01-09T22:17:54.907Z"
   },
   {
    "duration": 117,
    "start_time": "2023-01-09T22:17:54.922Z"
   },
   {
    "duration": 6,
    "start_time": "2023-01-09T22:17:55.042Z"
   },
   {
    "duration": 11,
    "start_time": "2023-01-09T22:17:55.122Z"
   },
   {
    "duration": 200,
    "start_time": "2023-01-09T22:17:55.138Z"
   },
   {
    "duration": 4,
    "start_time": "2023-01-09T22:19:51.316Z"
   },
   {
    "duration": 4,
    "start_time": "2023-01-09T22:19:56.393Z"
   },
   {
    "duration": 2270,
    "start_time": "2023-01-10T12:05:38.134Z"
   },
   {
    "duration": 107,
    "start_time": "2023-01-10T12:05:40.407Z"
   },
   {
    "duration": 5,
    "start_time": "2023-01-10T12:05:41.590Z"
   },
   {
    "duration": 55,
    "start_time": "2023-01-10T12:05:41.816Z"
   },
   {
    "duration": 5,
    "start_time": "2023-01-10T12:05:43.212Z"
   },
   {
    "duration": 6,
    "start_time": "2023-01-10T12:05:43.630Z"
   },
   {
    "duration": 14,
    "start_time": "2023-01-10T12:05:43.843Z"
   },
   {
    "duration": 659,
    "start_time": "2023-01-10T12:05:44.540Z"
   },
   {
    "duration": 192,
    "start_time": "2023-01-10T12:05:45.716Z"
   }
  ],
  "kernelspec": {
   "display_name": "Python 3 (ipykernel)",
   "language": "python",
   "name": "python3"
  },
  "language_info": {
   "codemirror_mode": {
    "name": "ipython",
    "version": 3
   },
   "file_extension": ".py",
   "mimetype": "text/x-python",
   "name": "python",
   "nbconvert_exporter": "python",
   "pygments_lexer": "ipython3",
   "version": "3.9.16"
  },
  "toc": {
   "base_numbering": 1,
   "nav_menu": {},
   "number_sections": true,
   "sideBar": true,
   "skip_h1_title": true,
   "title_cell": "Содержание",
   "title_sidebar": "Contents",
   "toc_cell": true,
   "toc_position": {
    "height": "calc(100% - 180px)",
    "left": "10px",
    "top": "150px",
    "width": "237.917px"
   },
   "toc_section_display": true,
   "toc_window_display": true
  },
  "vscode": {
   "interpreter": {
    "hash": "82d4c6f819cf47785f735f902f00da8643513d08dab4f4c7470bccf934b8d2d6"
   }
  }
 },
 "nbformat": 4,
 "nbformat_minor": 2
}
